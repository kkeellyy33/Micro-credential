{
  "nbformat": 4,
  "nbformat_minor": 0,
  "metadata": {
    "colab": {
      "name": "Day3_Workout.ipynb",
      "provenance": [],
      "authorship_tag": "ABX9TyPGVwR7d5AN8xgOuRiJevBY",
      "include_colab_link": true
    },
    "kernelspec": {
      "name": "python3",
      "display_name": "Python 3"
    },
    "language_info": {
      "name": "python"
    }
  },
  "cells": [
    {
      "cell_type": "markdown",
      "metadata": {
        "id": "view-in-github",
        "colab_type": "text"
      },
      "source": [
        "<a href=\"https://colab.research.google.com/github/kkeellyy33/Micro-credential/blob/main/Day3_Workout.ipynb\" target=\"_parent\"><img src=\"https://colab.research.google.com/assets/colab-badge.svg\" alt=\"Open In Colab\"/></a>"
      ]
    },
    {
      "cell_type": "code",
      "execution_count": 6,
      "metadata": {
        "id": "BUxmXHV_nc0E"
      },
      "outputs": [],
      "source": [
        "def divisible5(n):\n",
        "  '''\n",
        "  Description: This function prints out numbers divisible by 5 from a given list of numbers\n",
        "  Created by: Kelly\n",
        "  Input: list of numbers\n",
        "  Output: numbers divisible by 5 from given list\n",
        "  '''\n",
        "  num = []\n",
        "  for i in n:\n",
        "    if i % 5 == 0:\n",
        "      num.append(i)\n",
        "  return num"
      ]
    },
    {
      "cell_type": "code",
      "source": [
        "help(divisible5)"
      ],
      "metadata": {
        "colab": {
          "base_uri": "https://localhost:8080/"
        },
        "id": "mo784Wu0oB13",
        "outputId": "f0b87900-0118-4605-9858-503219497cee"
      },
      "execution_count": 7,
      "outputs": [
        {
          "output_type": "stream",
          "name": "stdout",
          "text": [
            "Help on function divisible5 in module __main__:\n",
            "\n",
            "divisible5(n)\n",
            "    Description: This function prints out numbers divisible by 5 from a given list of numbers\n",
            "    Created by: Kelly\n",
            "    Input: list of numbers\n",
            "    Output: numbers divisible by 5 from given list\n",
            "\n"
          ]
        }
      ]
    },
    {
      "cell_type": "code",
      "source": [
        "divisible5([12,5,20,13,84,25])"
      ],
      "metadata": {
        "colab": {
          "base_uri": "https://localhost:8080/"
        },
        "id": "W4DCT0JXoGPj",
        "outputId": "be52bc68-9d2a-4fdc-da7d-844d712e13ad"
      },
      "execution_count": 8,
      "outputs": [
        {
          "output_type": "execute_result",
          "data": {
            "text/plain": [
              "[5, 20, 25]"
            ]
          },
          "metadata": {},
          "execution_count": 8
        }
      ]
    },
    {
      "cell_type": "code",
      "source": [
        "my_list = [1,2,3,4,5,6,7,8,9,1]\n",
        "if my_list[0] == my_list[-1]:\n",
        "  print('True')\n",
        "else:\n",
        "  print('False')"
      ],
      "metadata": {
        "colab": {
          "base_uri": "https://localhost:8080/"
        },
        "id": "jS4dgAunoRIF",
        "outputId": "a346a166-9e7e-42de-a0ac-2ebc23f04ab6"
      },
      "execution_count": 9,
      "outputs": [
        {
          "output_type": "stream",
          "name": "stdout",
          "text": [
            "True\n"
          ]
        }
      ]
    },
    {
      "cell_type": "code",
      "source": [
        "colors = ['Red','Yellow','Black','Green']\n",
        "print(colors[0],colors[-1])"
      ],
      "metadata": {
        "colab": {
          "base_uri": "https://localhost:8080/"
        },
        "id": "9diu1Krqr76d",
        "outputId": "99d9e5e6-795b-43d7-ba9f-5f165113bafe"
      },
      "execution_count": 10,
      "outputs": [
        {
          "output_type": "stream",
          "name": "stdout",
          "text": [
            "Red Green\n"
          ]
        }
      ]
    },
    {
      "cell_type": "code",
      "source": [
        "n = int(input('Enter a number: '))\n",
        "print(n + n*n + n*n*n)"
      ],
      "metadata": {
        "colab": {
          "base_uri": "https://localhost:8080/"
        },
        "id": "V8GLmrkDxUNI",
        "outputId": "f4fec401-71df-4ebb-9a36-f8c570aa8f8e"
      },
      "execution_count": 14,
      "outputs": [
        {
          "output_type": "stream",
          "name": "stdout",
          "text": [
            "Enter a number: 5\n",
            "155\n"
          ]
        }
      ]
    },
    {
      "cell_type": "code",
      "source": [
        ""
      ],
      "metadata": {
        "id": "9m16NoJ_1LHv"
      },
      "execution_count": null,
      "outputs": []
    }
  ]
}