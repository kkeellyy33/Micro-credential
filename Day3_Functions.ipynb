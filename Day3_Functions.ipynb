{
  "nbformat": 4,
  "nbformat_minor": 0,
  "metadata": {
    "colab": {
      "name": "Day3_Functions.ipynb",
      "provenance": [],
      "authorship_tag": "ABX9TyN8kMBGK8cxeJ7Mha0udTD+",
      "include_colab_link": true
    },
    "kernelspec": {
      "name": "python3",
      "display_name": "Python 3"
    },
    "language_info": {
      "name": "python"
    }
  },
  "cells": [
    {
      "cell_type": "markdown",
      "metadata": {
        "id": "view-in-github",
        "colab_type": "text"
      },
      "source": [
        "<a href=\"https://colab.research.google.com/github/kkeellyy33/Micro-credential/blob/main/Day3_Functions.ipynb\" target=\"_parent\"><img src=\"https://colab.research.google.com/assets/colab-badge.svg\" alt=\"Open In Colab\"/></a>"
      ]
    },
    {
      "cell_type": "markdown",
      "source": [
        "# Intro to Python IV\n",
        "\n",
        "## Functions!"
      ],
      "metadata": {
        "id": "WDcVffC9XQ8l"
      }
    },
    {
      "cell_type": "markdown",
      "source": [
        "### 1) How to define a function?"
      ],
      "metadata": {
        "id": "Y43Bb8zUXfmd"
      }
    },
    {
      "cell_type": "code",
      "source": [
        "'''\n",
        "'def' nameOfFunction():\n",
        "  whatever the functions is supposed to do\n",
        "'''"
      ],
      "metadata": {
        "id": "IsN5DI9nXfkk"
      },
      "execution_count": null,
      "outputs": []
    },
    {
      "cell_type": "code",
      "source": [
        "def my_function():\n",
        "  print('Hi there')"
      ],
      "metadata": {
        "id": "VlD0DhsMXfhT"
      },
      "execution_count": 1,
      "outputs": []
    },
    {
      "cell_type": "code",
      "source": [
        "my_function"
      ],
      "metadata": {
        "colab": {
          "base_uri": "https://localhost:8080/"
        },
        "id": "ZrQmv-l8Xffp",
        "outputId": "b563b010-e775-4aed-8f9e-e79b2e7d0759"
      },
      "execution_count": 2,
      "outputs": [
        {
          "output_type": "execute_result",
          "data": {
            "text/plain": [
              "<function __main__.my_function>"
            ]
          },
          "metadata": {},
          "execution_count": 2
        }
      ]
    },
    {
      "cell_type": "code",
      "source": [
        "my_function()"
      ],
      "metadata": {
        "colab": {
          "base_uri": "https://localhost:8080/"
        },
        "id": "ewHOAarZXfcs",
        "outputId": "c0fdcd34-d223-42a7-8dc7-65fd6e7c31f7"
      },
      "execution_count": 3,
      "outputs": [
        {
          "output_type": "stream",
          "name": "stdout",
          "text": [
            "Hi there\n"
          ]
        }
      ]
    },
    {
      "cell_type": "code",
      "source": [
        "help(my_function)"
      ],
      "metadata": {
        "colab": {
          "base_uri": "https://localhost:8080/"
        },
        "id": "KxNdaT42XfbD",
        "outputId": "cae8613a-574d-44b4-e063-01b56e41f292"
      },
      "execution_count": 4,
      "outputs": [
        {
          "output_type": "stream",
          "name": "stdout",
          "text": [
            "Help on function my_function in module __main__:\n",
            "\n",
            "my_function()\n",
            "\n"
          ]
        }
      ]
    },
    {
      "cell_type": "code",
      "source": [
        "def my_function():\n",
        "  '''\n",
        "  Created by: The Kahn\n",
        "  Input: NONE\n",
        "  Output: Hello\n",
        "  '''\n",
        "  print('Hello')"
      ],
      "metadata": {
        "id": "CLO0knDKXfYQ"
      },
      "execution_count": 5,
      "outputs": []
    },
    {
      "cell_type": "code",
      "source": [
        "my_function()"
      ],
      "metadata": {
        "colab": {
          "base_uri": "https://localhost:8080/"
        },
        "id": "F4T_C3tKZaWy",
        "outputId": "aa2e96be-b839-4f98-81bc-d79396357e28"
      },
      "execution_count": 6,
      "outputs": [
        {
          "output_type": "stream",
          "name": "stdout",
          "text": [
            "Hello\n"
          ]
        }
      ]
    },
    {
      "cell_type": "code",
      "source": [
        "help(my_function)"
      ],
      "metadata": {
        "colab": {
          "base_uri": "https://localhost:8080/"
        },
        "id": "bEHZT4WdXfWN",
        "outputId": "49d044e1-1c3b-4e27-b6b5-24dc3884d8c6"
      },
      "execution_count": 7,
      "outputs": [
        {
          "output_type": "stream",
          "name": "stdout",
          "text": [
            "Help on function my_function in module __main__:\n",
            "\n",
            "my_function()\n",
            "    Created by: The Kahn\n",
            "    Input: NONE\n",
            "    Output: Hello\n",
            "\n"
          ]
        }
      ]
    },
    {
      "cell_type": "code",
      "source": [
        "def greeting():\n",
        "  '''\n",
        "  Created by: Kelly\n",
        "  Input: NONE\n",
        "  Output: Hello to the user\n",
        "  '''\n",
        "  print('Good afternoon')"
      ],
      "metadata": {
        "id": "w-tph4-9XfHs"
      },
      "execution_count": 8,
      "outputs": []
    },
    {
      "cell_type": "code",
      "source": [
        "greeting()"
      ],
      "metadata": {
        "colab": {
          "base_uri": "https://localhost:8080/"
        },
        "id": "xs6f8VeDaris",
        "outputId": "7ee615da-f9c6-4b08-e10e-2d6d18c193f4"
      },
      "execution_count": 9,
      "outputs": [
        {
          "output_type": "stream",
          "name": "stdout",
          "text": [
            "Good afternoon\n"
          ]
        }
      ]
    },
    {
      "cell_type": "code",
      "source": [
        "def greeting(name):\n",
        "  '''\n",
        "  Created by: Kelly\n",
        "  Input: name\n",
        "  Output: Hello to the user\n",
        "  '''\n",
        "  print('Good afternoon', name)"
      ],
      "metadata": {
        "id": "5zlyYFqRashY"
      },
      "execution_count": 16,
      "outputs": []
    },
    {
      "cell_type": "code",
      "source": [
        "greeting('Kelly')"
      ],
      "metadata": {
        "colab": {
          "base_uri": "https://localhost:8080/"
        },
        "id": "nS-OMWRJaufJ",
        "outputId": "816af8ea-d780-4e17-b9e7-db74764b82a6"
      },
      "execution_count": 15,
      "outputs": [
        {
          "output_type": "stream",
          "name": "stdout",
          "text": [
            "Good afternoon Kelly\n"
          ]
        }
      ]
    },
    {
      "cell_type": "code",
      "source": [
        "name = input('Enter your name: ')\n",
        "greeting(name)"
      ],
      "metadata": {
        "colab": {
          "base_uri": "https://localhost:8080/"
        },
        "id": "5p5OxIPeaub6",
        "outputId": "a204679f-b951-4ce8-cb4e-fb60c23c7212"
      },
      "execution_count": 17,
      "outputs": [
        {
          "output_type": "stream",
          "name": "stdout",
          "text": [
            "Enter your name: kelly\n",
            "Good afternoon kelly\n"
          ]
        }
      ]
    },
    {
      "cell_type": "code",
      "source": [
        "def add(n1,n2):\n",
        "  return n1+n2"
      ],
      "metadata": {
        "id": "5O2-Qj6AauZc"
      },
      "execution_count": 18,
      "outputs": []
    },
    {
      "cell_type": "code",
      "source": [
        "add(34,89)"
      ],
      "metadata": {
        "colab": {
          "base_uri": "https://localhost:8080/"
        },
        "id": "74_w47VJauWt",
        "outputId": "4a279ee4-4529-476a-f70c-df328adf70e1"
      },
      "execution_count": 19,
      "outputs": [
        {
          "output_type": "execute_result",
          "data": {
            "text/plain": [
              "123"
            ]
          },
          "metadata": {},
          "execution_count": 19
        }
      ]
    },
    {
      "cell_type": "code",
      "source": [
        "def even_numbers(n):\n",
        "  '''\n",
        "  Description: This function prints out even numbers from a given list of numbers\n",
        "  Created by: Kelly\n",
        "  Input: list of numbers\n",
        "  Output: even numbers from given list\n",
        "  '''\n",
        "  num = []\n",
        "  for i in n:\n",
        "    if i % 2 == 0:\n",
        "      num.append(i)\n",
        "  return num"
      ],
      "metadata": {
        "id": "bZDv4XBOauUr"
      },
      "execution_count": 20,
      "outputs": []
    },
    {
      "cell_type": "code",
      "source": [
        "help(even_numbers)"
      ],
      "metadata": {
        "colab": {
          "base_uri": "https://localhost:8080/"
        },
        "id": "X-d5WClvcyfb",
        "outputId": "1fe7adba-68bd-46cc-a4b9-af959e0be0ec"
      },
      "execution_count": 21,
      "outputs": [
        {
          "output_type": "stream",
          "name": "stdout",
          "text": [
            "Help on function even_numbers in module __main__:\n",
            "\n",
            "even_numbers(n)\n",
            "    Description: This function prints out even numbers from a given list of numbers\n",
            "    Created by: Kelly\n",
            "    Input: list of numbers\n",
            "    Output: even numbers from given list\n",
            "\n"
          ]
        }
      ]
    },
    {
      "cell_type": "code",
      "source": [
        "even_numbers([1,2,3,4,5,6,7,8,9,10])"
      ],
      "metadata": {
        "colab": {
          "base_uri": "https://localhost:8080/"
        },
        "id": "RBRjvb3cc1gb",
        "outputId": "6dae3c3f-bc74-42ad-a73f-8cb8cd5e7a12"
      },
      "execution_count": 22,
      "outputs": [
        {
          "output_type": "execute_result",
          "data": {
            "text/plain": [
              "[2, 4, 6, 8, 10]"
            ]
          },
          "metadata": {},
          "execution_count": 22
        }
      ]
    },
    {
      "cell_type": "code",
      "source": [
        "even_numbers([1,3,5,7,9])"
      ],
      "metadata": {
        "colab": {
          "base_uri": "https://localhost:8080/"
        },
        "id": "wjRF0Y9wc60j",
        "outputId": "e2421955-e8f4-4bf5-f06b-7feb6f8754bb"
      },
      "execution_count": 23,
      "outputs": [
        {
          "output_type": "execute_result",
          "data": {
            "text/plain": [
              "[]"
            ]
          },
          "metadata": {},
          "execution_count": 23
        }
      ]
    },
    {
      "cell_type": "code",
      "source": [
        "def odd_numbers(n):\n",
        "  '''\n",
        "  Description: This function prints out odd numbers from a given list of numbers\n",
        "  Created by: Kelly\n",
        "  Input: list of numbers\n",
        "  Output: even numbers from given list\n",
        "  '''\n",
        "  num = []\n",
        "  for i in n:\n",
        "    if i % 2 == 1:\n",
        "      num.append(i)\n",
        "  return num"
      ],
      "metadata": {
        "id": "6fgRGDgbdQRQ"
      },
      "execution_count": 25,
      "outputs": []
    },
    {
      "cell_type": "code",
      "source": [
        "odd_numbers([1,2,3,4,5,6,7,8,9,10])"
      ],
      "metadata": {
        "colab": {
          "base_uri": "https://localhost:8080/"
        },
        "id": "WkQ3XATGdxBZ",
        "outputId": "c9e7533e-f206-4d44-d10b-4f851c5d1d9c"
      },
      "execution_count": 27,
      "outputs": [
        {
          "output_type": "execute_result",
          "data": {
            "text/plain": [
              "[1, 3, 5, 7, 9]"
            ]
          },
          "metadata": {},
          "execution_count": 27
        }
      ]
    },
    {
      "cell_type": "code",
      "source": [
        ""
      ],
      "metadata": {
        "id": "jMxI-WZId2gp"
      },
      "execution_count": null,
      "outputs": []
    }
  ]
}