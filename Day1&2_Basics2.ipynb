{
  "nbformat": 4,
  "nbformat_minor": 0,
  "metadata": {
    "colab": {
      "name": "Day1&2.Basics2.ipynb",
      "provenance": [],
      "collapsed_sections": [],
      "authorship_tag": "ABX9TyN/WWLB0/pvndHZlJD0Wb/X",
      "include_colab_link": true
    },
    "kernelspec": {
      "name": "python3",
      "display_name": "Python 3"
    },
    "language_info": {
      "name": "python"
    }
  },
  "cells": [
    {
      "cell_type": "markdown",
      "metadata": {
        "id": "view-in-github",
        "colab_type": "text"
      },
      "source": [
        "<a href=\"https://colab.research.google.com/github/kkeellyy33/Micro-credential/blob/main/Day1%262_Basics2.ipynb\" target=\"_parent\"><img src=\"https://colab.research.google.com/assets/colab-badge.svg\" alt=\"Open In Colab\"/></a>"
      ]
    },
    {
      "cell_type": "markdown",
      "source": [
        "#Intro to Python part II\n",
        "\n",
        "## Data Structures\n"
      ],
      "metadata": {
        "id": "kX4MZZ4y-s5W"
      }
    },
    {
      "cell_type": "markdown",
      "source": [
        "## Lists"
      ],
      "metadata": {
        "id": "Cj6nrfW8-9F2"
      }
    },
    {
      "cell_type": "code",
      "source": [
        "my_list = ['Hello', 400, 20.5]"
      ],
      "metadata": {
        "id": "6w78b93Y_d3h"
      },
      "execution_count": null,
      "outputs": []
    },
    {
      "cell_type": "code",
      "source": [
        "print(my_list)"
      ],
      "metadata": {
        "colab": {
          "base_uri": "https://localhost:8080/"
        },
        "id": "XQUqcdmF_9P5",
        "outputId": "33e3bc3c-e914-404e-c65a-40c3c2bb6730"
      },
      "execution_count": null,
      "outputs": [
        {
          "output_type": "stream",
          "name": "stdout",
          "text": [
            "['Hello', 400, 20.5]\n"
          ]
        }
      ]
    },
    {
      "cell_type": "code",
      "source": [
        "type(my_list)"
      ],
      "metadata": {
        "colab": {
          "base_uri": "https://localhost:8080/"
        },
        "id": "WMaeNLZr_-tp",
        "outputId": "b92964e0-8971-4322-e8fd-56d7cf1a805b"
      },
      "execution_count": null,
      "outputs": [
        {
          "output_type": "execute_result",
          "data": {
            "text/plain": [
              "list"
            ]
          },
          "metadata": {},
          "execution_count": 5
        }
      ]
    },
    {
      "cell_type": "code",
      "source": [
        "second_list = ['one', 'two', 'three']"
      ],
      "metadata": {
        "id": "aNMcBZx7AFtD"
      },
      "execution_count": null,
      "outputs": []
    },
    {
      "cell_type": "code",
      "source": [
        "print(my_list, second_list)"
      ],
      "metadata": {
        "colab": {
          "base_uri": "https://localhost:8080/"
        },
        "id": "xe1EJECrAOYn",
        "outputId": "681d0f18-2541-4333-f6b0-e641736d775a"
      },
      "execution_count": null,
      "outputs": [
        {
          "output_type": "stream",
          "name": "stdout",
          "text": [
            "['Hello', 400, 20.5] ['one', 'two', 'three']\n"
          ]
        }
      ]
    },
    {
      "cell_type": "markdown",
      "source": [
        "### 1) Concatenation"
      ],
      "metadata": {
        "id": "yzQVQUTOARph"
      }
    },
    {
      "cell_type": "code",
      "source": [
        "new_list = my_list + second_list"
      ],
      "metadata": {
        "id": "1Q2J7MypBVRa"
      },
      "execution_count": null,
      "outputs": []
    },
    {
      "cell_type": "code",
      "source": [
        "print(new_list)"
      ],
      "metadata": {
        "colab": {
          "base_uri": "https://localhost:8080/"
        },
        "id": "xB1u8t4NBajM",
        "outputId": "45d42f17-6765-4dbe-bae9-848dee85e1b8"
      },
      "execution_count": null,
      "outputs": [
        {
          "output_type": "stream",
          "name": "stdout",
          "text": [
            "['Hello', 400, 20.5, 'one', 'two', 'three']\n"
          ]
        }
      ]
    },
    {
      "cell_type": "code",
      "source": [
        "type(new_list)"
      ],
      "metadata": {
        "colab": {
          "base_uri": "https://localhost:8080/"
        },
        "id": "b2gatMTaBcLB",
        "outputId": "658ac502-19d3-4304-a934-2b9fba5ffded"
      },
      "execution_count": null,
      "outputs": [
        {
          "output_type": "execute_result",
          "data": {
            "text/plain": [
              "list"
            ]
          },
          "metadata": {},
          "execution_count": 10
        }
      ]
    },
    {
      "cell_type": "markdown",
      "source": [
        "### 2) Indexing in a List"
      ],
      "metadata": {
        "id": "dyh7CV8SBd92"
      }
    },
    {
      "cell_type": "code",
      "source": [
        "students = ['Robert','Kris','Katarina','Scarlett']"
      ],
      "metadata": {
        "id": "Oi2-FpcAB_bo"
      },
      "execution_count": null,
      "outputs": []
    },
    {
      "cell_type": "code",
      "source": [
        "students"
      ],
      "metadata": {
        "colab": {
          "base_uri": "https://localhost:8080/"
        },
        "id": "Ns__mGNrCKfI",
        "outputId": "94df8d11-3aa9-4070-bfb0-8a144556a6ef"
      },
      "execution_count": null,
      "outputs": [
        {
          "output_type": "execute_result",
          "data": {
            "text/plain": [
              "['Robert', 'Kris', 'Katarina', 'Scarlett']"
            ]
          },
          "metadata": {},
          "execution_count": 56
        }
      ]
    },
    {
      "cell_type": "code",
      "source": [
        "students[0]"
      ],
      "metadata": {
        "colab": {
          "base_uri": "https://localhost:8080/",
          "height": 35
        },
        "id": "qx0ut18BCNOj",
        "outputId": "d4b1956e-4ae1-41de-a459-a5aaef0df43f"
      },
      "execution_count": null,
      "outputs": [
        {
          "output_type": "execute_result",
          "data": {
            "text/plain": [
              "'Robert'"
            ],
            "application/vnd.google.colaboratory.intrinsic+json": {
              "type": "string"
            }
          },
          "metadata": {},
          "execution_count": 42
        }
      ]
    },
    {
      "cell_type": "code",
      "source": [
        "students[0][0]"
      ],
      "metadata": {
        "colab": {
          "base_uri": "https://localhost:8080/",
          "height": 35
        },
        "id": "9SKrCnT3CO7H",
        "outputId": "c5703c18-da2a-41b9-abd8-677d99af11dc"
      },
      "execution_count": null,
      "outputs": [
        {
          "output_type": "execute_result",
          "data": {
            "text/plain": [
              "'R'"
            ],
            "application/vnd.google.colaboratory.intrinsic+json": {
              "type": "string"
            }
          },
          "metadata": {},
          "execution_count": 43
        }
      ]
    },
    {
      "cell_type": "code",
      "source": [
        "string1 = 'This is a string'"
      ],
      "metadata": {
        "id": "AwXVWr7CCS4_"
      },
      "execution_count": null,
      "outputs": []
    },
    {
      "cell_type": "code",
      "source": [
        "string1"
      ],
      "metadata": {
        "colab": {
          "base_uri": "https://localhost:8080/",
          "height": 35
        },
        "id": "mJ38GybyChZj",
        "outputId": "94aecb47-5e88-45da-9686-15c10d3e2643"
      },
      "execution_count": null,
      "outputs": [
        {
          "output_type": "execute_result",
          "data": {
            "text/plain": [
              "'This is a string'"
            ],
            "application/vnd.google.colaboratory.intrinsic+json": {
              "type": "string"
            }
          },
          "metadata": {},
          "execution_count": 16
        }
      ]
    },
    {
      "cell_type": "code",
      "source": [
        "string1[2]"
      ],
      "metadata": {
        "colab": {
          "base_uri": "https://localhost:8080/",
          "height": 35
        },
        "id": "qwaXUyjFCjO-",
        "outputId": "f3fa7a93-01df-498d-c022-1bc0c769b977"
      },
      "execution_count": null,
      "outputs": [
        {
          "output_type": "execute_result",
          "data": {
            "text/plain": [
              "'i'"
            ],
            "application/vnd.google.colaboratory.intrinsic+json": {
              "type": "string"
            }
          },
          "metadata": {},
          "execution_count": 17
        }
      ]
    },
    {
      "cell_type": "markdown",
      "source": [
        "### 3) Editing the list's"
      ],
      "metadata": {
        "id": "HqL8jVgUCkKV"
      }
    },
    {
      "cell_type": "code",
      "source": [
        "students"
      ],
      "metadata": {
        "colab": {
          "base_uri": "https://localhost:8080/"
        },
        "id": "unyvrjkxCqrq",
        "outputId": "43231769-0b4d-4586-84ad-31fc727519c8"
      },
      "execution_count": null,
      "outputs": [
        {
          "output_type": "execute_result",
          "data": {
            "text/plain": [
              "['Robert', 'Kris', 'Katarina', 'Scarlett']"
            ]
          },
          "metadata": {},
          "execution_count": 57
        }
      ]
    },
    {
      "cell_type": "code",
      "source": [
        "students[0] = 'Sam'"
      ],
      "metadata": {
        "id": "rY82rm6JC_0j"
      },
      "execution_count": null,
      "outputs": []
    },
    {
      "cell_type": "code",
      "source": [
        "students"
      ],
      "metadata": {
        "colab": {
          "base_uri": "https://localhost:8080/"
        },
        "id": "ld1XAqtzCyrm",
        "outputId": "cbc92b70-4fe7-4e92-d090-b48b512b59f0"
      },
      "execution_count": null,
      "outputs": [
        {
          "output_type": "execute_result",
          "data": {
            "text/plain": [
              "['Sam', 'Kris', 'Katarina', 'Scarlett']"
            ]
          },
          "metadata": {},
          "execution_count": 59
        }
      ]
    },
    {
      "cell_type": "code",
      "source": [
        "students.append('Paul')\n",
        "students"
      ],
      "metadata": {
        "colab": {
          "base_uri": "https://localhost:8080/"
        },
        "id": "NsQFXEuWC1FS",
        "outputId": "ca1b56ec-33e2-492e-877a-7630cae6d07a"
      },
      "execution_count": null,
      "outputs": [
        {
          "output_type": "execute_result",
          "data": {
            "text/plain": [
              "['Sam', 'Kris', 'Katarina', 'Scarlett', 'Paul']"
            ]
          },
          "metadata": {},
          "execution_count": 60
        }
      ]
    },
    {
      "cell_type": "code",
      "source": [
        "students.remove('Scarlett')\n",
        "students"
      ],
      "metadata": {
        "colab": {
          "base_uri": "https://localhost:8080/"
        },
        "id": "XoosLiGNDISP",
        "outputId": "29b91213-d4f4-4721-ae10-7d3375b44819"
      },
      "execution_count": null,
      "outputs": [
        {
          "output_type": "execute_result",
          "data": {
            "text/plain": [
              "['Sam', 'Kris', 'Katarina', 'Paul']"
            ]
          },
          "metadata": {},
          "execution_count": 61
        }
      ]
    },
    {
      "cell_type": "markdown",
      "source": [
        "### 4) Add list into lists"
      ],
      "metadata": {
        "id": "iyd5ZVpuF62j"
      }
    },
    {
      "cell_type": "code",
      "source": [
        "list1 = ['one','two','three','four','five']"
      ],
      "metadata": {
        "id": "Hr_LAnpDDYQc"
      },
      "execution_count": null,
      "outputs": []
    },
    {
      "cell_type": "code",
      "source": [
        "list1.pop(2)"
      ],
      "metadata": {
        "colab": {
          "base_uri": "https://localhost:8080/",
          "height": 35
        },
        "id": "vKNzTLbaD5ZX",
        "outputId": "19bae9ee-52b9-4ab8-e882-bfaeffa96d78"
      },
      "execution_count": null,
      "outputs": [
        {
          "output_type": "execute_result",
          "data": {
            "text/plain": [
              "'three'"
            ],
            "application/vnd.google.colaboratory.intrinsic+json": {
              "type": "string"
            }
          },
          "metadata": {},
          "execution_count": 51
        }
      ]
    },
    {
      "cell_type": "code",
      "source": [
        "list1"
      ],
      "metadata": {
        "colab": {
          "base_uri": "https://localhost:8080/"
        },
        "id": "W-cFV129D6ue",
        "outputId": "b5b3afb5-701d-47f8-aca1-db28dff64d7b"
      },
      "execution_count": null,
      "outputs": [
        {
          "output_type": "execute_result",
          "data": {
            "text/plain": [
              "['one', 'two', 'four', 'five']"
            ]
          },
          "metadata": {},
          "execution_count": 52
        }
      ]
    },
    {
      "cell_type": "code",
      "source": [
        "num = [1,2,3,4]"
      ],
      "metadata": {
        "id": "k_9lq3QpENAz"
      },
      "execution_count": null,
      "outputs": []
    },
    {
      "cell_type": "code",
      "source": [
        "students.extend(num)"
      ],
      "metadata": {
        "id": "l2HrjNUmEeJy"
      },
      "execution_count": null,
      "outputs": []
    },
    {
      "cell_type": "code",
      "source": [
        "students"
      ],
      "metadata": {
        "colab": {
          "base_uri": "https://localhost:8080/"
        },
        "id": "t1s1jIlWEgUl",
        "outputId": "b324966a-f06f-4f05-e4bf-abc5ed9b1e7c"
      },
      "execution_count": null,
      "outputs": [
        {
          "output_type": "execute_result",
          "data": {
            "text/plain": [
              "['Sam', 'Kris', 'Katarina', 'Paul', 1, 2, 3, 4]"
            ]
          },
          "metadata": {},
          "execution_count": 64
        }
      ]
    },
    {
      "cell_type": "markdown",
      "source": [
        "### 5) Python in-build functions with the list's"
      ],
      "metadata": {
        "id": "IzH0tsKUEg9t"
      }
    },
    {
      "cell_type": "code",
      "source": [
        "even = [2,4,6,8]\n",
        "odd = [1,3,5,7,9]"
      ],
      "metadata": {
        "id": "hDjUaa8-Ep1r"
      },
      "execution_count": null,
      "outputs": []
    },
    {
      "cell_type": "code",
      "source": [
        "numbers = even + odd"
      ],
      "metadata": {
        "id": "ql2_plNGE_h9"
      },
      "execution_count": null,
      "outputs": []
    },
    {
      "cell_type": "code",
      "source": [
        "numbers"
      ],
      "metadata": {
        "colab": {
          "base_uri": "https://localhost:8080/"
        },
        "id": "nvfyX0ouFFZM",
        "outputId": "d5a42382-1f18-42b9-beaa-966b91892f71"
      },
      "execution_count": null,
      "outputs": [
        {
          "output_type": "execute_result",
          "data": {
            "text/plain": [
              "[2, 4, 6, 8, 1, 3, 5, 7, 9]"
            ]
          },
          "metadata": {},
          "execution_count": 69
        }
      ]
    },
    {
      "cell_type": "code",
      "source": [
        "print(sorted(numbers))"
      ],
      "metadata": {
        "colab": {
          "base_uri": "https://localhost:8080/"
        },
        "id": "jyqMJJYKFHL7",
        "outputId": "f20c43c9-24ae-4dfa-d1ec-38d6f5642e8b"
      },
      "execution_count": null,
      "outputs": [
        {
          "output_type": "stream",
          "name": "stdout",
          "text": [
            "[1, 2, 3, 4, 5, 6, 7, 8, 9]\n"
          ]
        }
      ]
    },
    {
      "cell_type": "code",
      "source": [
        "len(numbers)"
      ],
      "metadata": {
        "colab": {
          "base_uri": "https://localhost:8080/"
        },
        "id": "_pe0WoWFFMB2",
        "outputId": "6c8909d3-cb24-4033-bf6f-8ed36387d85c"
      },
      "execution_count": null,
      "outputs": [
        {
          "output_type": "execute_result",
          "data": {
            "text/plain": [
              "9"
            ]
          },
          "metadata": {},
          "execution_count": 71
        }
      ]
    },
    {
      "cell_type": "code",
      "source": [
        "max(numbers)"
      ],
      "metadata": {
        "colab": {
          "base_uri": "https://localhost:8080/"
        },
        "id": "K-_lAQM3Fl63",
        "outputId": "7e3105a4-0939-4627-e5ae-448b00b0b883"
      },
      "execution_count": null,
      "outputs": [
        {
          "output_type": "execute_result",
          "data": {
            "text/plain": [
              "9"
            ]
          },
          "metadata": {},
          "execution_count": 72
        }
      ]
    },
    {
      "cell_type": "code",
      "source": [
        "min(numbers)"
      ],
      "metadata": {
        "colab": {
          "base_uri": "https://localhost:8080/"
        },
        "id": "wc8N2mq9FnTF",
        "outputId": "ba15c515-4f78-46ff-de05-1353b810ce1c"
      },
      "execution_count": null,
      "outputs": [
        {
          "output_type": "execute_result",
          "data": {
            "text/plain": [
              "1"
            ]
          },
          "metadata": {},
          "execution_count": 73
        }
      ]
    },
    {
      "cell_type": "markdown",
      "source": [
        "## Dictionaries"
      ],
      "metadata": {
        "id": "TvIrs5DZFon0"
      }
    },
    {
      "cell_type": "markdown",
      "source": [
        "### 1) Difine a dictionary"
      ],
      "metadata": {
        "id": "oyvYYf1etCTJ"
      }
    },
    {
      "cell_type": "code",
      "source": [
        "my_dict = {\"key1\":\"value1\",\"key2\":\"value2\"}\n",
        "my_dict"
      ],
      "metadata": {
        "colab": {
          "base_uri": "https://localhost:8080/"
        },
        "id": "VokV5I0FtKk1",
        "outputId": "c42873ba-d18e-4f64-bdf5-d1d6b1e8d8ea"
      },
      "execution_count": null,
      "outputs": [
        {
          "output_type": "execute_result",
          "data": {
            "text/plain": [
              "{'key1': 'value1', 'key2': 'value2'}"
            ]
          },
          "metadata": {},
          "execution_count": 1
        }
      ]
    },
    {
      "cell_type": "code",
      "source": [
        "my_dict['key1']"
      ],
      "metadata": {
        "colab": {
          "base_uri": "https://localhost:8080/",
          "height": 35
        },
        "id": "YWjhm7e_tX2J",
        "outputId": "0eb0eb48-44e4-4565-886e-f84e00a50b39"
      },
      "execution_count": null,
      "outputs": [
        {
          "output_type": "execute_result",
          "data": {
            "text/plain": [
              "'value1'"
            ],
            "application/vnd.google.colaboratory.intrinsic+json": {
              "type": "string"
            }
          },
          "metadata": {},
          "execution_count": 2
        }
      ]
    },
    {
      "cell_type": "markdown",
      "source": [
        "### 2) Dictionaries with all data type's"
      ],
      "metadata": {
        "id": "BC1uYOk7tdxD"
      }
    },
    {
      "cell_type": "code",
      "source": [
        "new_dict = {'k1':147, 'k2':[12,15,95], 'k3':{'apple':3}}"
      ],
      "metadata": {
        "id": "7gq8rLXito4a"
      },
      "execution_count": null,
      "outputs": []
    },
    {
      "cell_type": "code",
      "source": [
        "new_dict['k2'][2]"
      ],
      "metadata": {
        "colab": {
          "base_uri": "https://localhost:8080/"
        },
        "id": "y8JdLIR9t9K6",
        "outputId": "b0a55c95-fb02-4f44-e204-2ca403925add"
      },
      "execution_count": null,
      "outputs": [
        {
          "output_type": "execute_result",
          "data": {
            "text/plain": [
              "95"
            ]
          },
          "metadata": {},
          "execution_count": 6
        }
      ]
    },
    {
      "cell_type": "code",
      "source": [
        "new_dict['k3']['apple']"
      ],
      "metadata": {
        "colab": {
          "base_uri": "https://localhost:8080/"
        },
        "id": "vlCGTbucuBV3",
        "outputId": "8f85597e-9304-4e6c-c423-51b9a3227f6d"
      },
      "execution_count": null,
      "outputs": [
        {
          "output_type": "execute_result",
          "data": {
            "text/plain": [
              "3"
            ]
          },
          "metadata": {},
          "execution_count": 7
        }
      ]
    },
    {
      "cell_type": "code",
      "source": [
        "d = {'students': ['kelly','kevin','jack']}"
      ],
      "metadata": {
        "id": "KeU8kXoyuKcm"
      },
      "execution_count": null,
      "outputs": []
    },
    {
      "cell_type": "code",
      "source": [
        "d"
      ],
      "metadata": {
        "colab": {
          "base_uri": "https://localhost:8080/"
        },
        "id": "I43-9_OVumBy",
        "outputId": "d6673ade-3e77-4fc6-c0d4-0b973b2dd96c"
      },
      "execution_count": null,
      "outputs": [
        {
          "output_type": "execute_result",
          "data": {
            "text/plain": [
              "{'students': ['kelly', 'kevin', 'jack']}"
            ]
          },
          "metadata": {},
          "execution_count": 9
        }
      ]
    },
    {
      "cell_type": "code",
      "source": [
        "d['students'][1]"
      ],
      "metadata": {
        "colab": {
          "base_uri": "https://localhost:8080/",
          "height": 35
        },
        "id": "072XZ181uo6o",
        "outputId": "9f80c199-829c-4519-8fd9-161f69657aa0"
      },
      "execution_count": null,
      "outputs": [
        {
          "output_type": "execute_result",
          "data": {
            "text/plain": [
              "'kevin'"
            ],
            "application/vnd.google.colaboratory.intrinsic+json": {
              "type": "string"
            }
          },
          "metadata": {},
          "execution_count": 10
        }
      ]
    },
    {
      "cell_type": "code",
      "source": [
        "d['students'][2].upper()"
      ],
      "metadata": {
        "colab": {
          "base_uri": "https://localhost:8080/",
          "height": 35
        },
        "id": "uFW67uHhurtu",
        "outputId": "a5de4963-f3d0-4ad7-ea94-b9f320bc6c6b"
      },
      "execution_count": null,
      "outputs": [
        {
          "output_type": "execute_result",
          "data": {
            "text/plain": [
              "'JACK'"
            ],
            "application/vnd.google.colaboratory.intrinsic+json": {
              "type": "string"
            }
          },
          "metadata": {},
          "execution_count": 12
        }
      ]
    },
    {
      "cell_type": "markdown",
      "source": [
        "### 3) Add Values"
      ],
      "metadata": {
        "id": "N1XoNhDXv4SK"
      }
    },
    {
      "cell_type": "code",
      "source": [
        "d = {'n1':100, 'n2':200}"
      ],
      "metadata": {
        "id": "-NiC4y2nv_uF"
      },
      "execution_count": null,
      "outputs": []
    },
    {
      "cell_type": "code",
      "source": [
        "d['n3']=300"
      ],
      "metadata": {
        "id": "83YGt6uFwHgC"
      },
      "execution_count": null,
      "outputs": []
    },
    {
      "cell_type": "code",
      "source": [
        "d"
      ],
      "metadata": {
        "colab": {
          "base_uri": "https://localhost:8080/"
        },
        "id": "T3J6Hx9xwMm_",
        "outputId": "566282be-c53b-492a-f8df-d1e435d65d68"
      },
      "execution_count": null,
      "outputs": [
        {
          "output_type": "execute_result",
          "data": {
            "text/plain": [
              "{'n1': 100, 'n2': 200, 'n3': 300}"
            ]
          },
          "metadata": {},
          "execution_count": 15
        }
      ]
    },
    {
      "cell_type": "markdown",
      "source": [
        "### 4) Replace values"
      ],
      "metadata": {
        "id": "GxOkCmWbwNV9"
      }
    },
    {
      "cell_type": "code",
      "source": [
        "d['n1']= 520\n",
        "d"
      ],
      "metadata": {
        "colab": {
          "base_uri": "https://localhost:8080/"
        },
        "id": "YKEY8LPvwWzq",
        "outputId": "2b4ff7db-3e39-46e4-baaf-43809b47dc28"
      },
      "execution_count": null,
      "outputs": [
        {
          "output_type": "execute_result",
          "data": {
            "text/plain": [
              "{'n1': 520, 'n2': 200, 'n3': 300}"
            ]
          },
          "metadata": {},
          "execution_count": 16
        }
      ]
    },
    {
      "cell_type": "code",
      "source": [
        "d.keys()"
      ],
      "metadata": {
        "colab": {
          "base_uri": "https://localhost:8080/"
        },
        "id": "tC60SQPNwa6A",
        "outputId": "02d054d4-bc0f-4562-aac6-3aef3b86afbc"
      },
      "execution_count": null,
      "outputs": [
        {
          "output_type": "execute_result",
          "data": {
            "text/plain": [
              "dict_keys(['n1', 'n2', 'n3'])"
            ]
          },
          "metadata": {},
          "execution_count": 18
        }
      ]
    },
    {
      "cell_type": "code",
      "source": [
        "d.values()"
      ],
      "metadata": {
        "colab": {
          "base_uri": "https://localhost:8080/"
        },
        "id": "XlP_3Et7wfIW",
        "outputId": "bfca607a-4117-41b7-97a0-683e323a30ce"
      },
      "execution_count": null,
      "outputs": [
        {
          "output_type": "execute_result",
          "data": {
            "text/plain": [
              "dict_values([520, 200, 300])"
            ]
          },
          "metadata": {},
          "execution_count": 20
        }
      ]
    },
    {
      "cell_type": "code",
      "source": [
        "d.items()"
      ],
      "metadata": {
        "colab": {
          "base_uri": "https://localhost:8080/"
        },
        "id": "XnA30PAcwjsV",
        "outputId": "ef4bd688-a617-40c9-c541-95588177c43d"
      },
      "execution_count": null,
      "outputs": [
        {
          "output_type": "execute_result",
          "data": {
            "text/plain": [
              "dict_items([('n1', 520), ('n2', 200), ('n3', 300)])"
            ]
          },
          "metadata": {},
          "execution_count": 21
        }
      ]
    },
    {
      "cell_type": "markdown",
      "source": [
        "## Tuples"
      ],
      "metadata": {
        "id": "190aEHXswoBo"
      }
    },
    {
      "cell_type": "markdown",
      "source": [
        "### Define Tuples"
      ],
      "metadata": {
        "id": "PRK47tRNAyny"
      }
    },
    {
      "cell_type": "code",
      "source": [
        "prime_numbers = (2,3,5,7,11)"
      ],
      "metadata": {
        "id": "TLSI4s4fBEEf"
      },
      "execution_count": null,
      "outputs": []
    },
    {
      "cell_type": "code",
      "source": [
        "prime_numbers"
      ],
      "metadata": {
        "colab": {
          "base_uri": "https://localhost:8080/"
        },
        "id": "25CTKKd1BRKY",
        "outputId": "7125bd1e-0857-4bae-faae-63ac33bd8217"
      },
      "execution_count": null,
      "outputs": [
        {
          "output_type": "execute_result",
          "data": {
            "text/plain": [
              "(2, 3, 5, 7, 11)"
            ]
          },
          "metadata": {},
          "execution_count": 23
        }
      ]
    },
    {
      "cell_type": "code",
      "source": [
        "type(prime_numbers)"
      ],
      "metadata": {
        "colab": {
          "base_uri": "https://localhost:8080/"
        },
        "id": "4pExoRgKBSPh",
        "outputId": "f0e9be38-7a7e-425e-9b87-cc1b060f7027"
      },
      "execution_count": null,
      "outputs": [
        {
          "output_type": "execute_result",
          "data": {
            "text/plain": [
              "tuple"
            ]
          },
          "metadata": {},
          "execution_count": 24
        }
      ]
    },
    {
      "cell_type": "code",
      "source": [
        "perfect_squares = [1,4,9,16,25,36]\n",
        "type(perfect_squares)"
      ],
      "metadata": {
        "colab": {
          "base_uri": "https://localhost:8080/"
        },
        "id": "s6B-w5GjBUrx",
        "outputId": "a71a6baf-2685-472c-b5a3-b60625409821"
      },
      "execution_count": null,
      "outputs": [
        {
          "output_type": "execute_result",
          "data": {
            "text/plain": [
              "list"
            ]
          },
          "metadata": {},
          "execution_count": 25
        }
      ]
    },
    {
      "cell_type": "code",
      "source": [
        "len(prime_numbers)"
      ],
      "metadata": {
        "colab": {
          "base_uri": "https://localhost:8080/"
        },
        "id": "TUIJohJEBgaT",
        "outputId": "f3c9a44d-3b63-4fec-d1d9-949bdd2817d2"
      },
      "execution_count": null,
      "outputs": [
        {
          "output_type": "execute_result",
          "data": {
            "text/plain": [
              "5"
            ]
          },
          "metadata": {},
          "execution_count": 27
        }
      ]
    },
    {
      "cell_type": "code",
      "source": [
        "len(perfect_squares)"
      ],
      "metadata": {
        "colab": {
          "base_uri": "https://localhost:8080/"
        },
        "id": "62jkU-m7BkE0",
        "outputId": "261cd6a4-4a56-4005-9578-41f3b6c3a3a1"
      },
      "execution_count": null,
      "outputs": [
        {
          "output_type": "execute_result",
          "data": {
            "text/plain": [
              "6"
            ]
          },
          "metadata": {},
          "execution_count": 28
        }
      ]
    },
    {
      "cell_type": "code",
      "source": [
        "my_tuple = ('Hieee', 100, 14.47, 100)\n",
        "my_tuple"
      ],
      "metadata": {
        "colab": {
          "base_uri": "https://localhost:8080/"
        },
        "id": "R0gtcP1DBocW",
        "outputId": "32001286-ed8c-4858-d4d7-7818a9f9b8df"
      },
      "execution_count": null,
      "outputs": [
        {
          "output_type": "execute_result",
          "data": {
            "text/plain": [
              "('Hieee', 100, 14.47, 100)"
            ]
          },
          "metadata": {},
          "execution_count": 34
        }
      ]
    },
    {
      "cell_type": "markdown",
      "source": [
        "### Indexing in Tuple's"
      ],
      "metadata": {
        "id": "S-QAg-KqB16W"
      }
    },
    {
      "cell_type": "code",
      "source": [
        "my_tuple[0]"
      ],
      "metadata": {
        "colab": {
          "base_uri": "https://localhost:8080/",
          "height": 35
        },
        "id": "ZJvk55XSB67c",
        "outputId": "14a78e04-1ffb-4cc4-e5d5-23dd27266874"
      },
      "execution_count": null,
      "outputs": [
        {
          "output_type": "execute_result",
          "data": {
            "text/plain": [
              "'Hieee'"
            ],
            "application/vnd.google.colaboratory.intrinsic+json": {
              "type": "string"
            }
          },
          "metadata": {},
          "execution_count": 35
        }
      ]
    },
    {
      "cell_type": "code",
      "source": [
        "my_tuple[0:2]"
      ],
      "metadata": {
        "colab": {
          "base_uri": "https://localhost:8080/"
        },
        "id": "Z_OWXME1B8Qg",
        "outputId": "438c5fe1-5eca-4afe-cb2b-82bb5390aad1"
      },
      "execution_count": null,
      "outputs": [
        {
          "output_type": "execute_result",
          "data": {
            "text/plain": [
              "('Hieee', 100)"
            ]
          },
          "metadata": {},
          "execution_count": 36
        }
      ]
    },
    {
      "cell_type": "code",
      "source": [
        "my_tuple.count(100)"
      ],
      "metadata": {
        "colab": {
          "base_uri": "https://localhost:8080/"
        },
        "id": "8hg4QO8gCCYK",
        "outputId": "b82230e4-0838-473e-f8b6-57bb7f487055"
      },
      "execution_count": null,
      "outputs": [
        {
          "output_type": "execute_result",
          "data": {
            "text/plain": [
              "2"
            ]
          },
          "metadata": {},
          "execution_count": 38
        }
      ]
    },
    {
      "cell_type": "code",
      "source": [
        "my_tuple[3] = 3\n",
        "#tuples arenot mutable"
      ],
      "metadata": {
        "colab": {
          "base_uri": "https://localhost:8080/",
          "height": 165
        },
        "id": "e6NzzrskDKrd",
        "outputId": "0ec8f9b2-da93-4eeb-d5c7-64fc4c906251"
      },
      "execution_count": null,
      "outputs": [
        {
          "output_type": "error",
          "ename": "TypeError",
          "evalue": "ignored",
          "traceback": [
            "\u001b[0;31m---------------------------------------------------------------------------\u001b[0m",
            "\u001b[0;31mTypeError\u001b[0m                                 Traceback (most recent call last)",
            "\u001b[0;32m<ipython-input-39-48a9bcf9a50c>\u001b[0m in \u001b[0;36m<module>\u001b[0;34m()\u001b[0m\n\u001b[0;32m----> 1\u001b[0;31m \u001b[0mmy_tuple\u001b[0m\u001b[0;34m[\u001b[0m\u001b[0;36m3\u001b[0m\u001b[0;34m]\u001b[0m \u001b[0;34m=\u001b[0m \u001b[0;36m3\u001b[0m\u001b[0;34m\u001b[0m\u001b[0;34m\u001b[0m\u001b[0m\n\u001b[0m",
            "\u001b[0;31mTypeError\u001b[0m: 'tuple' object does not support item assignment"
          ]
        }
      ]
    },
    {
      "cell_type": "markdown",
      "source": [
        "## Sets"
      ],
      "metadata": {
        "id": "rRz1ApHDDrw6"
      }
    },
    {
      "cell_type": "code",
      "source": [
        "my_set = set()\n",
        "#build-in function of a set\n",
        "#Sets cannot have repeated variables\n",
        "#Sets can be mutable"
      ],
      "metadata": {
        "id": "QpXS-ke8D4i3"
      },
      "execution_count": null,
      "outputs": []
    },
    {
      "cell_type": "code",
      "source": [
        "my_list = [1,1,1,1,2,2,3,'Apple','Apple']"
      ],
      "metadata": {
        "id": "RCRtl4d2D7tq"
      },
      "execution_count": null,
      "outputs": []
    },
    {
      "cell_type": "code",
      "source": [
        "set(my_list)"
      ],
      "metadata": {
        "colab": {
          "base_uri": "https://localhost:8080/"
        },
        "id": "rXpR9W4sEOBw",
        "outputId": "787b8713-d96d-4573-c101-57d4dc275650"
      },
      "execution_count": null,
      "outputs": [
        {
          "output_type": "execute_result",
          "data": {
            "text/plain": [
              "{1, 2, 3, 'Apple'}"
            ]
          },
          "metadata": {},
          "execution_count": 43
        }
      ]
    },
    {
      "cell_type": "code",
      "source": [
        "my_set"
      ],
      "metadata": {
        "colab": {
          "base_uri": "https://localhost:8080/"
        },
        "id": "I_etAvknEPl7",
        "outputId": "7baa77e4-9f13-48de-d45c-3de21b488fed"
      },
      "execution_count": null,
      "outputs": [
        {
          "output_type": "execute_result",
          "data": {
            "text/plain": [
              "set()"
            ]
          },
          "metadata": {},
          "execution_count": 44
        }
      ]
    },
    {
      "cell_type": "code",
      "source": [
        "my_set.add(23)"
      ],
      "metadata": {
        "id": "yMZ-HopjETHg"
      },
      "execution_count": null,
      "outputs": []
    },
    {
      "cell_type": "code",
      "source": [
        "my_set"
      ],
      "metadata": {
        "colab": {
          "base_uri": "https://localhost:8080/"
        },
        "id": "Lzwz4R5IEVXd",
        "outputId": "8222177f-b62f-42a5-c75e-f525e944ec7d"
      },
      "execution_count": null,
      "outputs": [
        {
          "output_type": "execute_result",
          "data": {
            "text/plain": [
              "{23}"
            ]
          },
          "metadata": {},
          "execution_count": 46
        }
      ]
    },
    {
      "cell_type": "code",
      "source": [
        "my_set.add(22)\n",
        "my_set.add(23)\n",
        "my_set.add('Hi')"
      ],
      "metadata": {
        "id": "Nyz7dlxdEWP_"
      },
      "execution_count": null,
      "outputs": []
    },
    {
      "cell_type": "code",
      "source": [
        "my_set\n",
        "#Repeated variables will be added only once"
      ],
      "metadata": {
        "colab": {
          "base_uri": "https://localhost:8080/"
        },
        "id": "erKlWXl1Ednt",
        "outputId": "bb222c2f-ac65-4886-d061-ea0a6d4892ba"
      },
      "execution_count": null,
      "outputs": [
        {
          "output_type": "execute_result",
          "data": {
            "text/plain": [
              "{22, 23, 'Hi'}"
            ]
          },
          "metadata": {},
          "execution_count": 49
        }
      ]
    },
    {
      "cell_type": "markdown",
      "source": [
        "## Strings ... Part II"
      ],
      "metadata": {
        "id": "L1QA8eKQEfWb"
      }
    },
    {
      "cell_type": "markdown",
      "source": [
        "### 1) Concatenation of the string's"
      ],
      "metadata": {
        "id": "lN0D65NOErgv"
      }
    },
    {
      "cell_type": "code",
      "source": [
        "greeting = 'hello'\n",
        "name = 'Mark'\n",
        "print(greeting + name)"
      ],
      "metadata": {
        "colab": {
          "base_uri": "https://localhost:8080/"
        },
        "id": "z1AvZ-s4E9Rw",
        "outputId": "330bca57-9ab4-448b-8165-a511a8dd1690"
      },
      "execution_count": null,
      "outputs": [
        {
          "output_type": "stream",
          "name": "stdout",
          "text": [
            "helloMark\n"
          ]
        }
      ]
    },
    {
      "cell_type": "code",
      "source": [
        "print(greeting + ' ' + name)"
      ],
      "metadata": {
        "colab": {
          "base_uri": "https://localhost:8080/"
        },
        "id": "SaTb8MiFFECL",
        "outputId": "26cb4123-ed32-4815-e1e5-dd8006302b42"
      },
      "execution_count": null,
      "outputs": [
        {
          "output_type": "stream",
          "name": "stdout",
          "text": [
            "hello Mark\n"
          ]
        }
      ]
    },
    {
      "cell_type": "code",
      "source": [
        "print(greeting, name)\n",
        "#this line is runned after the name input below(line53)"
      ],
      "metadata": {
        "colab": {
          "base_uri": "https://localhost:8080/"
        },
        "id": "fN0vVYivFIB-",
        "outputId": "6ba97ac9-9791-45a8-d878-51416203f208"
      },
      "execution_count": null,
      "outputs": [
        {
          "output_type": "stream",
          "name": "stdout",
          "text": [
            "hello kelly\n"
          ]
        }
      ]
    },
    {
      "cell_type": "markdown",
      "source": [
        "### 2) Input function"
      ],
      "metadata": {
        "id": "16_QznLzFK6c"
      }
    },
    {
      "cell_type": "code",
      "source": [
        ""
      ],
      "metadata": {
        "id": "bedWH54CFYyP"
      },
      "execution_count": null,
      "outputs": []
    },
    {
      "cell_type": "code",
      "source": [
        "name = input('Enter a name: ')"
      ],
      "metadata": {
        "colab": {
          "base_uri": "https://localhost:8080/"
        },
        "id": "KvNB79RaFZmC",
        "outputId": "b3d22753-4ab7-4761-dd0a-62b3a20980be"
      },
      "execution_count": null,
      "outputs": [
        {
          "name": "stdout",
          "output_type": "stream",
          "text": [
            "Enter a name: kelly\n"
          ]
        }
      ]
    },
    {
      "cell_type": "code",
      "source": [
        "print(greeting, name)"
      ],
      "metadata": {
        "colab": {
          "base_uri": "https://localhost:8080/"
        },
        "id": "425vjQ27FeEe",
        "outputId": "514d3fd8-e1cb-47e6-cfc0-2ac5c720c17d"
      },
      "execution_count": null,
      "outputs": [
        {
          "output_type": "stream",
          "name": "stdout",
          "text": [
            "hello kelly\n"
          ]
        }
      ]
    },
    {
      "cell_type": "markdown",
      "source": [
        "### 3) Indexing strings"
      ],
      "metadata": {
        "id": "cBc1SsFKFjjk"
      }
    },
    {
      "cell_type": "code",
      "source": [
        "color = 'Orange'"
      ],
      "metadata": {
        "id": "nYfWG-JOF-Ph"
      },
      "execution_count": null,
      "outputs": []
    },
    {
      "cell_type": "code",
      "source": [
        "len(color)"
      ],
      "metadata": {
        "colab": {
          "base_uri": "https://localhost:8080/"
        },
        "id": "47lHr5LJGAnQ",
        "outputId": "77775b5c-6cfe-4b52-bb91-93bb8874d324"
      },
      "execution_count": null,
      "outputs": [
        {
          "output_type": "execute_result",
          "data": {
            "text/plain": [
              "6"
            ]
          },
          "metadata": {},
          "execution_count": 59
        }
      ]
    },
    {
      "cell_type": "code",
      "source": [
        "color[3]"
      ],
      "metadata": {
        "colab": {
          "base_uri": "https://localhost:8080/",
          "height": 35
        },
        "id": "IgNkwFULGBmU",
        "outputId": "481c6747-f35d-4a09-c50c-dbd17666060a"
      },
      "execution_count": null,
      "outputs": [
        {
          "output_type": "execute_result",
          "data": {
            "text/plain": [
              "'n'"
            ],
            "application/vnd.google.colaboratory.intrinsic+json": {
              "type": "string"
            }
          },
          "metadata": {},
          "execution_count": 60
        }
      ]
    },
    {
      "cell_type": "code",
      "source": [
        "color[-1]"
      ],
      "metadata": {
        "colab": {
          "base_uri": "https://localhost:8080/",
          "height": 35
        },
        "id": "4PfnYqBbGDa1",
        "outputId": "a70fb7c2-419d-4829-b30c-bf3410385a65"
      },
      "execution_count": null,
      "outputs": [
        {
          "output_type": "execute_result",
          "data": {
            "text/plain": [
              "'e'"
            ],
            "application/vnd.google.colaboratory.intrinsic+json": {
              "type": "string"
            }
          },
          "metadata": {},
          "execution_count": 61
        }
      ]
    },
    {
      "cell_type": "code",
      "source": [
        "color[2:-1]"
      ],
      "metadata": {
        "colab": {
          "base_uri": "https://localhost:8080/",
          "height": 35
        },
        "id": "z4oo68TjGFad",
        "outputId": "6b3cdff4-1d28-4b0e-f282-efd6495907b4"
      },
      "execution_count": null,
      "outputs": [
        {
          "output_type": "execute_result",
          "data": {
            "text/plain": [
              "'ang'"
            ],
            "application/vnd.google.colaboratory.intrinsic+json": {
              "type": "string"
            }
          },
          "metadata": {},
          "execution_count": 62
        }
      ]
    },
    {
      "cell_type": "markdown",
      "source": [
        "### 4) String Formatting"
      ],
      "metadata": {
        "id": "UMqoaTIpGP5x"
      }
    },
    {
      "cell_type": "code",
      "source": [
        "age = 22"
      ],
      "metadata": {
        "id": "McZaD0OCGZDx"
      },
      "execution_count": null,
      "outputs": []
    },
    {
      "cell_type": "code",
      "source": [
        "print('My age is'+ age +'years old')\n",
        "#can only concatenate str (not \"int\") to str"
      ],
      "metadata": {
        "colab": {
          "base_uri": "https://localhost:8080/",
          "height": 183
        },
        "id": "uYIJnNC0GY-9",
        "outputId": "02eeb8da-6a1c-4021-99a6-08aa8f06628e"
      },
      "execution_count": null,
      "outputs": [
        {
          "output_type": "error",
          "ename": "TypeError",
          "evalue": "ignored",
          "traceback": [
            "\u001b[0;31m---------------------------------------------------------------------------\u001b[0m",
            "\u001b[0;31mTypeError\u001b[0m                                 Traceback (most recent call last)",
            "\u001b[0;32m<ipython-input-66-f4baaacd4ca8>\u001b[0m in \u001b[0;36m<module>\u001b[0;34m()\u001b[0m\n\u001b[0;32m----> 1\u001b[0;31m \u001b[0mprint\u001b[0m\u001b[0;34m(\u001b[0m\u001b[0;34m'My age is'\u001b[0m\u001b[0;34m+\u001b[0m \u001b[0mage\u001b[0m \u001b[0;34m+\u001b[0m\u001b[0;34m'years old'\u001b[0m\u001b[0;34m)\u001b[0m\u001b[0;34m\u001b[0m\u001b[0;34m\u001b[0m\u001b[0m\n\u001b[0m\u001b[1;32m      2\u001b[0m \u001b[0;31m#can only concatenate str (not \"int\") to str\u001b[0m\u001b[0;34m\u001b[0m\u001b[0;34m\u001b[0m\u001b[0;34m\u001b[0m\u001b[0m\n",
            "\u001b[0;31mTypeError\u001b[0m: can only concatenate str (not \"int\") to str"
          ]
        }
      ]
    },
    {
      "cell_type": "code",
      "source": [
        "print('My age is', age, 'years old')"
      ],
      "metadata": {
        "colab": {
          "base_uri": "https://localhost:8080/"
        },
        "id": "RVBGbBDBGY9U",
        "outputId": "505e02da-3967-4d61-d887-ea34481e06bd"
      },
      "execution_count": null,
      "outputs": [
        {
          "output_type": "stream",
          "name": "stdout",
          "text": [
            "My age is 22 years old\n"
          ]
        }
      ]
    },
    {
      "cell_type": "code",
      "source": [
        "print('The colors are {} {} {}'.format('red','green','yellow'))"
      ],
      "metadata": {
        "colab": {
          "base_uri": "https://localhost:8080/"
        },
        "id": "R5ymyk5DGYno",
        "outputId": "4cc026ed-605c-475a-e642-36e06ef6789c"
      },
      "execution_count": null,
      "outputs": [
        {
          "output_type": "stream",
          "name": "stdout",
          "text": [
            "The colors are red green yellow\n"
          ]
        }
      ]
    },
    {
      "cell_type": "code",
      "source": [
        "print(f'My age is {age}')"
      ],
      "metadata": {
        "colab": {
          "base_uri": "https://localhost:8080/"
        },
        "id": "H2fZqCFmHRtY",
        "outputId": "16db6286-2823-4d2f-d613-252926d473a8"
      },
      "execution_count": null,
      "outputs": [
        {
          "output_type": "stream",
          "name": "stdout",
          "text": [
            "My age is 22\n"
          ]
        }
      ]
    },
    {
      "cell_type": "code",
      "source": [
        " print('The colors are {r} {g} {y}'.format(r='red',g='green',y='yellow'))"
      ],
      "metadata": {
        "colab": {
          "base_uri": "https://localhost:8080/"
        },
        "id": "LlIPIWWTHfKe",
        "outputId": "feaa2862-5403-47be-a824-ec22c61e8654"
      },
      "execution_count": null,
      "outputs": [
        {
          "output_type": "stream",
          "name": "stdout",
          "text": [
            "The colors are red green yellow\n"
          ]
        }
      ]
    },
    {
      "cell_type": "markdown",
      "source": [
        "## Project: 1\n",
        "\n",
        "# Convert a Number into Binary, Octal and Hexadecimal\n"
      ],
      "metadata": {
        "id": "zr2xdQykHtvk"
      }
    },
    {
      "cell_type": "code",
      "source": [
        "num = 27"
      ],
      "metadata": {
        "id": "pd83qozoHxTu"
      },
      "execution_count": 75,
      "outputs": []
    },
    {
      "cell_type": "code",
      "source": [
        "bin(num)"
      ],
      "metadata": {
        "colab": {
          "base_uri": "https://localhost:8080/",
          "height": 35
        },
        "id": "doqgLUxPKVBX",
        "outputId": "2acdbc23-5f17-4cd3-d3ee-ea248904925a"
      },
      "execution_count": 88,
      "outputs": [
        {
          "output_type": "execute_result",
          "data": {
            "text/plain": [
              "'0b11011'"
            ],
            "application/vnd.google.colaboratory.intrinsic+json": {
              "type": "string"
            }
          },
          "metadata": {},
          "execution_count": 88
        }
      ]
    },
    {
      "cell_type": "code",
      "source": [
        "oct(num)\n"
      ],
      "metadata": {
        "colab": {
          "base_uri": "https://localhost:8080/",
          "height": 35
        },
        "id": "HDwYjhFUKrFI",
        "outputId": "bf6a79db-1887-4ac9-9916-b176141acdc4"
      },
      "execution_count": 89,
      "outputs": [
        {
          "output_type": "execute_result",
          "data": {
            "text/plain": [
              "'0o33'"
            ],
            "application/vnd.google.colaboratory.intrinsic+json": {
              "type": "string"
            }
          },
          "metadata": {},
          "execution_count": 89
        }
      ]
    },
    {
      "cell_type": "code",
      "source": [
        "hex(num)\n"
      ],
      "metadata": {
        "colab": {
          "base_uri": "https://localhost:8080/",
          "height": 35
        },
        "id": "qE_1Hp80KtSr",
        "outputId": "2b424e9a-ee24-4beb-ec72-522da7437f59"
      },
      "execution_count": 90,
      "outputs": [
        {
          "output_type": "execute_result",
          "data": {
            "text/plain": [
              "'0x1b'"
            ],
            "application/vnd.google.colaboratory.intrinsic+json": {
              "type": "string"
            }
          },
          "metadata": {},
          "execution_count": 90
        }
      ]
    },
    {
      "cell_type": "code",
      "source": [
        ""
      ],
      "metadata": {
        "id": "S5L3tSAFL3ut"
      },
      "execution_count": null,
      "outputs": []
    }
  ]
}