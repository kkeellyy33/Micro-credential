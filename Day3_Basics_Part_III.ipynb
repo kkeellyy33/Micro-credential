{
  "nbformat": 4,
  "nbformat_minor": 0,
  "metadata": {
    "colab": {
      "name": "Day3 Basics Part III.ipynb",
      "provenance": [],
      "authorship_tag": "ABX9TyNYRLvMk2mxWaif0qVIGvSk",
      "include_colab_link": true
    },
    "kernelspec": {
      "name": "python3",
      "display_name": "Python 3"
    },
    "language_info": {
      "name": "python"
    }
  },
  "cells": [
    {
      "cell_type": "markdown",
      "metadata": {
        "id": "view-in-github",
        "colab_type": "text"
      },
      "source": [
        "<a href=\"https://colab.research.google.com/github/kkeellyy33/Micro-credential/blob/main/Day3_Basics_Part_III.ipynb\" target=\"_parent\"><img src=\"https://colab.research.google.com/assets/colab-badge.svg\" alt=\"Open In Colab\"/></a>"
      ]
    },
    {
      "cell_type": "markdown",
      "source": [
        "# Intro to Python Part III\n",
        "\n",
        "## Conditionals & Loops!!!"
      ],
      "metadata": {
        "id": "KD5e61Ytbj3b"
      }
    },
    {
      "cell_type": "markdown",
      "source": [
        "## Conditionals\n",
        "\n",
        "### IF...ELIF...ELSE Statements"
      ],
      "metadata": {
        "id": "UYlLgAJbG_9o"
      }
    },
    {
      "cell_type": "code",
      "source": [
        "'''\n",
        "if (condition):\n",
        "  do something\n",
        "'''"
      ],
      "metadata": {
        "id": "D9ZGrkpAG_7b"
      },
      "execution_count": null,
      "outputs": []
    },
    {
      "cell_type": "code",
      "source": [
        "if 3>2:\n",
        "  print('Right')"
      ],
      "metadata": {
        "colab": {
          "base_uri": "https://localhost:8080/"
        },
        "id": "UW4rv4QuG_4n",
        "outputId": "5de069d5-7e18-4e57-96c7-f8b26b35758b"
      },
      "execution_count": 2,
      "outputs": [
        {
          "output_type": "stream",
          "name": "stdout",
          "text": [
            "Right\n"
          ]
        }
      ]
    },
    {
      "cell_type": "code",
      "source": [
        "if 4>7:\n",
        "  print('right')\n",
        "else:\n",
        "  print('wrong')"
      ],
      "metadata": {
        "colab": {
          "base_uri": "https://localhost:8080/"
        },
        "id": "pXnJ8GGFG_3F",
        "outputId": "ea213026-5ac3-4444-c22d-16a33e30d4ab"
      },
      "execution_count": 3,
      "outputs": [
        {
          "output_type": "stream",
          "name": "stdout",
          "text": [
            "wrong\n"
          ]
        }
      ]
    },
    {
      "cell_type": "code",
      "source": [
        "a = 3\n",
        "b = 5\n",
        "\n",
        "if a>b:\n",
        "  print('Yes, it is rigth')\n",
        "else:\n",
        "  print('Try again')"
      ],
      "metadata": {
        "colab": {
          "base_uri": "https://localhost:8080/"
        },
        "id": "fHWEDjxzG_1V",
        "outputId": "5b594667-67c8-4f9a-9c9f-5aa339423b9f"
      },
      "execution_count": 4,
      "outputs": [
        {
          "output_type": "stream",
          "name": "stdout",
          "text": [
            "Try again\n"
          ]
        }
      ]
    },
    {
      "cell_type": "code",
      "source": [
        "drink = 'Tea'\n",
        "\n",
        "if drink == 'Coffee':\n",
        "  print('Humanity runs on coffee')\n",
        "else:\n",
        "  print('Where there is a Tea, There is a hope')"
      ],
      "metadata": {
        "colab": {
          "base_uri": "https://localhost:8080/"
        },
        "id": "vdq-QmhXG_zD",
        "outputId": "87130e9a-4267-485b-cf6d-a56a88ea4320"
      },
      "execution_count": 6,
      "outputs": [
        {
          "output_type": "stream",
          "name": "stdout",
          "text": [
            "Where there is a Tea, There is a hope\n"
          ]
        }
      ]
    },
    {
      "cell_type": "code",
      "source": [
        "drink = 'Coke'\n",
        "\n",
        "if drink == 'Coffee':\n",
        "  print('Humanity runs on coffee')\n",
        "  # if the condition does not meet, it goes to the following 'elif' statemet\n",
        "elif drink == 'Water':\n",
        "  print('water is the soul of earth')\n",
        "elif drink == 'Coke':\n",
        "  print('Best beverage ever')\n",
        "  # if none of the 'elif' statements were met either, it goes to the 'else' statement\n",
        "else:\n",
        "  print('Try again')"
      ],
      "metadata": {
        "colab": {
          "base_uri": "https://localhost:8080/"
        },
        "id": "Ry745lqhIlue",
        "outputId": "d0b00871-44b6-4b0b-c742-6b7f012e71e8"
      },
      "execution_count": 8,
      "outputs": [
        {
          "output_type": "stream",
          "name": "stdout",
          "text": [
            "Best beverage ever\n"
          ]
        }
      ]
    },
    {
      "cell_type": "markdown",
      "source": [
        "## Loops\n",
        "\n",
        "### For.Loop"
      ],
      "metadata": {
        "id": "Mw_TFj4SIpvf"
      }
    },
    {
      "cell_type": "code",
      "source": [
        "'''\n",
        "for iterator in array:\n",
        "  do something\n",
        "'''"
      ],
      "metadata": {
        "id": "T5KLdeH6LywY"
      },
      "execution_count": null,
      "outputs": []
    },
    {
      "cell_type": "code",
      "source": [
        "my_list = [1,2,3,4,5,6,7,8,9,10]"
      ],
      "metadata": {
        "id": "HDCypDl2Ipt_"
      },
      "execution_count": 10,
      "outputs": []
    },
    {
      "cell_type": "code",
      "source": [
        "for num in my_list:\n",
        "  print(num)"
      ],
      "metadata": {
        "colab": {
          "base_uri": "https://localhost:8080/"
        },
        "id": "Q3eh57eGLtRm",
        "outputId": "f5c19629-77b4-430a-9ed1-2eb0cc1dd38b"
      },
      "execution_count": 11,
      "outputs": [
        {
          "output_type": "stream",
          "name": "stdout",
          "text": [
            "1\n",
            "2\n",
            "3\n",
            "4\n",
            "5\n",
            "6\n",
            "7\n",
            "8\n",
            "9\n",
            "10\n"
          ]
        }
      ]
    },
    {
      "cell_type": "code",
      "source": [
        "for i in my_list:\n",
        "  if i % 2 == 0:\n",
        "    print(i)"
      ],
      "metadata": {
        "colab": {
          "base_uri": "https://localhost:8080/"
        },
        "id": "VXqIoJsuLtQE",
        "outputId": "9de233e5-3a18-49d0-f1f6-2c0ad417e3fe"
      },
      "execution_count": 12,
      "outputs": [
        {
          "output_type": "stream",
          "name": "stdout",
          "text": [
            "2\n",
            "4\n",
            "6\n",
            "8\n",
            "10\n"
          ]
        }
      ]
    },
    {
      "cell_type": "code",
      "source": [
        "my_list = [1,2,3,4,5]\n",
        "list_sum = 0\n",
        "\n",
        "for num in my_list:\n",
        "  list_sum = list_sum + num\n",
        "print(list_sum)"
      ],
      "metadata": {
        "id": "5CPiZPQXLtNP"
      },
      "execution_count": null,
      "outputs": []
    },
    {
      "cell_type": "code",
      "source": [
        "my_list = [(1,2,3),(4,5,6),(7,8,9)]"
      ],
      "metadata": {
        "id": "22evJ82WLtLr"
      },
      "execution_count": 13,
      "outputs": []
    },
    {
      "cell_type": "code",
      "source": [
        "for a,b,c in my_list:\n",
        "  print((b,c))"
      ],
      "metadata": {
        "colab": {
          "base_uri": "https://localhost:8080/"
        },
        "id": "yyI-TFbSLtGd",
        "outputId": "7916e4c2-82a4-4933-a2f6-015b0f96e179"
      },
      "execution_count": 14,
      "outputs": [
        {
          "output_type": "stream",
          "name": "stdout",
          "text": [
            "(2, 3)\n",
            "(5, 6)\n",
            "(8, 9)\n"
          ]
        }
      ]
    },
    {
      "cell_type": "code",
      "source": [
        "my_dict = {'k1':1, 'k2':2,'k3':3}"
      ],
      "metadata": {
        "id": "KQXAuFcYOwEJ"
      },
      "execution_count": 17,
      "outputs": []
    },
    {
      "cell_type": "code",
      "source": [
        "for i in my_dict:\n",
        "  print(i)"
      ],
      "metadata": {
        "colab": {
          "base_uri": "https://localhost:8080/"
        },
        "id": "vvREyxp1O9aQ",
        "outputId": "91a50a3b-24b3-40fb-c5bb-6074107ba9ac"
      },
      "execution_count": 18,
      "outputs": [
        {
          "output_type": "stream",
          "name": "stdout",
          "text": [
            "k1\n",
            "k2\n",
            "k3\n"
          ]
        }
      ]
    },
    {
      "cell_type": "code",
      "source": [
        "my_dict.items()"
      ],
      "metadata": {
        "colab": {
          "base_uri": "https://localhost:8080/"
        },
        "id": "Db3HzmWhPDgV",
        "outputId": "38235838-5599-4d59-cd11-12ca29f6d136"
      },
      "execution_count": 19,
      "outputs": [
        {
          "output_type": "execute_result",
          "data": {
            "text/plain": [
              "dict_items([('k1', 1), ('k2', 2), ('k3', 3)])"
            ]
          },
          "metadata": {},
          "execution_count": 19
        }
      ]
    },
    {
      "cell_type": "code",
      "source": [
        "for i in my_dict.items():\n",
        "  print(i)"
      ],
      "metadata": {
        "colab": {
          "base_uri": "https://localhost:8080/"
        },
        "id": "9nJ093ANPJK2",
        "outputId": "3c528d20-05b2-4d2e-d038-57f7a72bdf29"
      },
      "execution_count": 20,
      "outputs": [
        {
          "output_type": "stream",
          "name": "stdout",
          "text": [
            "('k1', 1)\n",
            "('k2', 2)\n",
            "('k3', 3)\n"
          ]
        }
      ]
    },
    {
      "cell_type": "code",
      "source": [
        "for a,b in my_dict.items():\n",
        "  print(b)"
      ],
      "metadata": {
        "colab": {
          "base_uri": "https://localhost:8080/"
        },
        "id": "IvEge7msPOMG",
        "outputId": "676045cd-1e25-4ecd-abb4-76095c1593fb"
      },
      "execution_count": 21,
      "outputs": [
        {
          "output_type": "stream",
          "name": "stdout",
          "text": [
            "1\n",
            "2\n",
            "3\n"
          ]
        }
      ]
    },
    {
      "cell_type": "markdown",
      "source": [
        "## While Loops!"
      ],
      "metadata": {
        "id": "6FczUn8yPYe-"
      }
    },
    {
      "cell_type": "code",
      "source": [
        "i = 0\n",
        "\n",
        "while i < 5:\n",
        "  print(i)\n",
        "  i = i + 1"
      ],
      "metadata": {
        "colab": {
          "base_uri": "https://localhost:8080/"
        },
        "id": "2J4iIl55R-S9",
        "outputId": "84f87fdb-ff45-4254-c975-0082f4495baa"
      },
      "execution_count": 22,
      "outputs": [
        {
          "output_type": "stream",
          "name": "stdout",
          "text": [
            "0\n",
            "1\n",
            "2\n",
            "3\n",
            "4\n"
          ]
        }
      ]
    },
    {
      "cell_type": "code",
      "source": [
        "i = 0\n",
        "\n",
        "while i < 5:\n",
        "  print(i)\n",
        "  i = i + 1\n",
        "else:\n",
        "  print('i is not less than 5')"
      ],
      "metadata": {
        "colab": {
          "base_uri": "https://localhost:8080/"
        },
        "id": "Qa9nQU-QR-PT",
        "outputId": "cdc4beed-e7d0-41ba-9e2b-e4f5b5bbd023"
      },
      "execution_count": 23,
      "outputs": [
        {
          "output_type": "stream",
          "name": "stdout",
          "text": [
            "0\n",
            "1\n",
            "2\n",
            "3\n",
            "4\n",
            "i is not less than 5\n"
          ]
        }
      ]
    },
    {
      "cell_type": "code",
      "source": [
        "i = 10\n",
        "\n",
        "while i < 5:\n",
        "  print(i)\n",
        "  i = i + 1\n",
        "else:\n",
        "  print('i is not less than 5')"
      ],
      "metadata": {
        "colab": {
          "base_uri": "https://localhost:8080/"
        },
        "id": "lc3MdI91R-Nd",
        "outputId": "df097a9d-cb42-46b6-fb16-28a013ce7d6a"
      },
      "execution_count": 24,
      "outputs": [
        {
          "output_type": "stream",
          "name": "stdout",
          "text": [
            "i is not less than 5\n"
          ]
        }
      ]
    },
    {
      "cell_type": "markdown",
      "source": [
        "## Pass, Break and Continue"
      ],
      "metadata": {
        "id": "jp3UT0OjSud_"
      }
    },
    {
      "cell_type": "code",
      "source": [
        "l = [1,2,3,4,5]\n",
        "\n",
        "for itmes in l:\n",
        "  # Content\n",
        "  pass\n",
        "print('I will work after!!!')"
      ],
      "metadata": {
        "colab": {
          "base_uri": "https://localhost:8080/"
        },
        "id": "mfXzDm3MSucO",
        "outputId": "2983ddac-ad38-4ccd-937e-25ce2b555cf6"
      },
      "execution_count": 25,
      "outputs": [
        {
          "output_type": "stream",
          "name": "stdout",
          "text": [
            "I will work after!!!\n"
          ]
        }
      ]
    },
    {
      "cell_type": "code",
      "source": [
        "my_string = 'Hello World'\n",
        "\n",
        "for letters in my_string:\n",
        "  if letters == 'r':\n",
        "    break\n",
        "  print(letters)"
      ],
      "metadata": {
        "colab": {
          "base_uri": "https://localhost:8080/"
        },
        "id": "loz9uMCCR-KA",
        "outputId": "ef2672cf-5074-4c98-883a-c8c69cf41dee"
      },
      "execution_count": 27,
      "outputs": [
        {
          "output_type": "stream",
          "name": "stdout",
          "text": [
            "H\n",
            "e\n",
            "l\n",
            "l\n",
            "o\n",
            " \n",
            "W\n",
            "o\n"
          ]
        }
      ]
    },
    {
      "cell_type": "code",
      "source": [
        "my_string = 'Hello World'\n",
        "\n",
        "for letters in my_string:\n",
        "  if letters == 'e':\n",
        "    continue\n",
        "  print(letters)"
      ],
      "metadata": {
        "colab": {
          "base_uri": "https://localhost:8080/"
        },
        "id": "cUQQ-TC9R-Ia",
        "outputId": "5d0e84b1-137b-494b-d074-b57d0781f9f5"
      },
      "execution_count": 28,
      "outputs": [
        {
          "output_type": "stream",
          "name": "stdout",
          "text": [
            "H\n",
            "l\n",
            "l\n",
            "o\n",
            " \n",
            "W\n",
            "o\n",
            "r\n",
            "l\n",
            "d\n"
          ]
        }
      ]
    },
    {
      "cell_type": "code",
      "source": [
        "i = 0\n",
        "while i < 5:\n",
        "  if i == 3:\n",
        "    break\n",
        "  print(i)\n",
        "  i = i + 1"
      ],
      "metadata": {
        "colab": {
          "base_uri": "https://localhost:8080/"
        },
        "id": "eOf4orT3TyXZ",
        "outputId": "37adcc65-4e1e-4b4d-a7ef-df9dead5681d"
      },
      "execution_count": 29,
      "outputs": [
        {
          "output_type": "stream",
          "name": "stdout",
          "text": [
            "0\n",
            "1\n",
            "2\n"
          ]
        }
      ]
    },
    {
      "cell_type": "markdown",
      "source": [
        "## Most used Built-in functions in Python"
      ],
      "metadata": {
        "id": "IBkBrizSTyTN"
      }
    },
    {
      "cell_type": "markdown",
      "source": [
        "### 1) Range function"
      ],
      "metadata": {
        "id": "x4F861LhUScq"
      }
    },
    {
      "cell_type": "code",
      "source": [
        "for num in range(10):\n",
        "  print(num)"
      ],
      "metadata": {
        "colab": {
          "base_uri": "https://localhost:8080/"
        },
        "id": "tFp5p2koUSRl",
        "outputId": "94cf2644-36dc-4464-a307-f5e3c055d561"
      },
      "execution_count": 30,
      "outputs": [
        {
          "output_type": "stream",
          "name": "stdout",
          "text": [
            "0\n",
            "1\n",
            "2\n",
            "3\n",
            "4\n",
            "5\n",
            "6\n",
            "7\n",
            "8\n",
            "9\n"
          ]
        }
      ]
    },
    {
      "cell_type": "code",
      "source": [
        "for num in range(3,10):\n",
        "  print(num)"
      ],
      "metadata": {
        "colab": {
          "base_uri": "https://localhost:8080/"
        },
        "id": "HT9s3qHSUSCZ",
        "outputId": "20e0c489-f299-4d03-df03-f662cba7fc9c"
      },
      "execution_count": 31,
      "outputs": [
        {
          "output_type": "stream",
          "name": "stdout",
          "text": [
            "3\n",
            "4\n",
            "5\n",
            "6\n",
            "7\n",
            "8\n",
            "9\n"
          ]
        }
      ]
    },
    {
      "cell_type": "code",
      "source": [
        "for num in range(0,11,2):\n",
        "  print(num)"
      ],
      "metadata": {
        "colab": {
          "base_uri": "https://localhost:8080/"
        },
        "id": "otAEPfyQTyRk",
        "outputId": "f961759f-ade0-49f6-da38-4193582ad7e0"
      },
      "execution_count": 32,
      "outputs": [
        {
          "output_type": "stream",
          "name": "stdout",
          "text": [
            "0\n",
            "2\n",
            "4\n",
            "6\n",
            "8\n",
            "10\n"
          ]
        }
      ]
    },
    {
      "cell_type": "code",
      "source": [
        "my_list = [1,2,3,4,5,6,7,8,9,10]\n",
        "range(10)\n",
        "list(range(10))\n",
        "list(range(1,11))"
      ],
      "metadata": {
        "colab": {
          "base_uri": "https://localhost:8080/"
        },
        "id": "fO9-yng4VKUc",
        "outputId": "2b8a4c82-9389-4bae-fd66-8665f055c980"
      },
      "execution_count": 33,
      "outputs": [
        {
          "output_type": "execute_result",
          "data": {
            "text/plain": [
              "[1, 2, 3, 4, 5, 6, 7, 8, 9, 10]"
            ]
          },
          "metadata": {},
          "execution_count": 33
        }
      ]
    },
    {
      "cell_type": "markdown",
      "source": [
        "### 2) Enumerate\n",
        "\n",
        "it gives back us an index count and object itself"
      ],
      "metadata": {
        "id": "REl5wt76VKSt"
      }
    },
    {
      "cell_type": "code",
      "source": [
        "word = 'batman'\n",
        "for items in word:\n",
        "  print(items)"
      ],
      "metadata": {
        "colab": {
          "base_uri": "https://localhost:8080/"
        },
        "id": "FiC6ThShVJ59",
        "outputId": "73297413-4d84-4290-8103-6af30f26c3c9"
      },
      "execution_count": 34,
      "outputs": [
        {
          "output_type": "stream",
          "name": "stdout",
          "text": [
            "b\n",
            "a\n",
            "t\n",
            "m\n",
            "a\n",
            "n\n"
          ]
        }
      ]
    },
    {
      "cell_type": "code",
      "source": [
        "for items in enumerate(word):\n",
        "  print(items)"
      ],
      "metadata": {
        "colab": {
          "base_uri": "https://localhost:8080/"
        },
        "id": "63yfqa-mVJ4S",
        "outputId": "becb2b0a-6399-4224-d35a-22a9816d1563"
      },
      "execution_count": 35,
      "outputs": [
        {
          "output_type": "stream",
          "name": "stdout",
          "text": [
            "(0, 'b')\n",
            "(1, 'a')\n",
            "(2, 't')\n",
            "(3, 'm')\n",
            "(4, 'a')\n",
            "(5, 'n')\n"
          ]
        }
      ]
    },
    {
      "cell_type": "code",
      "source": [
        "for a,b in enumerate(word):\n",
        "  print(a,b)"
      ],
      "metadata": {
        "colab": {
          "base_uri": "https://localhost:8080/"
        },
        "id": "-pCilGfiV5Zm",
        "outputId": "0f41ebd4-65ce-4fd3-caa9-269ec2b3fa4c"
      },
      "execution_count": 36,
      "outputs": [
        {
          "output_type": "stream",
          "name": "stdout",
          "text": [
            "0 b\n",
            "1 a\n",
            "2 t\n",
            "3 m\n",
            "4 a\n",
            "5 n\n"
          ]
        }
      ]
    },
    {
      "cell_type": "code",
      "source": [
        "for a,b in enumerate(word):\n",
        "  print(a)\n",
        "  print(b)\n",
        "  print('\\n')"
      ],
      "metadata": {
        "colab": {
          "base_uri": "https://localhost:8080/"
        },
        "id": "Y7B0uLKxV-sY",
        "outputId": "8cc4b426-7748-43c4-a15f-bfff91b50ef3"
      },
      "execution_count": 37,
      "outputs": [
        {
          "output_type": "stream",
          "name": "stdout",
          "text": [
            "0\n",
            "b\n",
            "\n",
            "\n",
            "1\n",
            "a\n",
            "\n",
            "\n",
            "2\n",
            "t\n",
            "\n",
            "\n",
            "3\n",
            "m\n",
            "\n",
            "\n",
            "4\n",
            "a\n",
            "\n",
            "\n",
            "5\n",
            "n\n",
            "\n",
            "\n"
          ]
        }
      ]
    },
    {
      "cell_type": "markdown",
      "source": [
        "### 3) zip"
      ],
      "metadata": {
        "id": "wzki3YtzWDyP"
      }
    },
    {
      "cell_type": "code",
      "source": [
        "list1 = [1,2,3,4,5]\n",
        "list2 = ['a','b','c','d','e']\n",
        "list3 = ['a','b','d']"
      ],
      "metadata": {
        "id": "nI9oRaFrWDwf"
      },
      "execution_count": 38,
      "outputs": []
    },
    {
      "cell_type": "code",
      "source": [
        "list4 = zip(list1,list2)"
      ],
      "metadata": {
        "id": "RXlVsgvoWDt2"
      },
      "execution_count": 39,
      "outputs": []
    },
    {
      "cell_type": "code",
      "source": [
        "print(list4)"
      ],
      "metadata": {
        "colab": {
          "base_uri": "https://localhost:8080/"
        },
        "id": "cQJ2Ky96WDsM",
        "outputId": "9fc12901-3d94-45b9-82f9-83d3eeb27aa7"
      },
      "execution_count": 40,
      "outputs": [
        {
          "output_type": "stream",
          "name": "stdout",
          "text": [
            "<zip object at 0x7faead7d6820>\n"
          ]
        }
      ]
    },
    {
      "cell_type": "code",
      "source": [
        "for items in zip(list1,list2):\n",
        "  print(items)"
      ],
      "metadata": {
        "colab": {
          "base_uri": "https://localhost:8080/"
        },
        "id": "mEVhY_ntWlNh",
        "outputId": "7d04d2bb-ab64-4766-dbc8-04c964555621"
      },
      "execution_count": 41,
      "outputs": [
        {
          "output_type": "stream",
          "name": "stdout",
          "text": [
            "(1, 'a')\n",
            "(2, 'b')\n",
            "(3, 'c')\n",
            "(4, 'd')\n",
            "(5, 'e')\n"
          ]
        }
      ]
    },
    {
      "cell_type": "code",
      "source": [
        "for a,b in zip(list1,list2):\n",
        "  print(a,b)"
      ],
      "metadata": {
        "colab": {
          "base_uri": "https://localhost:8080/"
        },
        "id": "zUMp77ruWpz1",
        "outputId": "f2ba8d4b-e13d-4cad-e6fc-aefc9c13308c"
      },
      "execution_count": 42,
      "outputs": [
        {
          "output_type": "stream",
          "name": "stdout",
          "text": [
            "1 a\n",
            "2 b\n",
            "3 c\n",
            "4 d\n",
            "5 e\n"
          ]
        }
      ]
    },
    {
      "cell_type": "code",
      "source": [
        "for items in zip(list1, list2, list3):\n",
        "  print(items)"
      ],
      "metadata": {
        "colab": {
          "base_uri": "https://localhost:8080/"
        },
        "id": "nQUwt0_RWw7s",
        "outputId": "8ef0c6dd-6a5b-4bad-c215-175da9b6bd11"
      },
      "execution_count": 44,
      "outputs": [
        {
          "output_type": "stream",
          "name": "stdout",
          "text": [
            "(1, 'a', 'a')\n",
            "(2, 'b', 'b')\n",
            "(3, 'c', 'd')\n"
          ]
        }
      ]
    },
    {
      "cell_type": "code",
      "source": [
        "for a,b,c in zip(list1, list2, list3):\n",
        "  print(b)"
      ],
      "metadata": {
        "colab": {
          "base_uri": "https://localhost:8080/"
        },
        "id": "ORWTKwkxW0hI",
        "outputId": "5b64fafb-b2e1-4947-8ea4-d13d07998364"
      },
      "execution_count": 45,
      "outputs": [
        {
          "output_type": "stream",
          "name": "stdout",
          "text": [
            "a\n",
            "b\n",
            "c\n"
          ]
        }
      ]
    }
  ]
}